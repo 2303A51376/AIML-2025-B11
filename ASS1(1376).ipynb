{
  "nbformat": 4,
  "nbformat_minor": 0,
  "metadata": {
    "colab": {
      "provenance": [],
      "authorship_tag": "ABX9TyOczv89nNMSKX6J/kG2t77w",
      "include_colab_link": true
    },
    "kernelspec": {
      "name": "python3",
      "display_name": "Python 3"
    },
    "language_info": {
      "name": "python"
    }
  },
  "cells": [
    {
      "cell_type": "markdown",
      "metadata": {
        "id": "view-in-github",
        "colab_type": "text"
      },
      "source": [
        "<a href=\"https://colab.research.google.com/github/2303A51376/AIML-2025-B11/blob/main/ASS1(1376).ipynb\" target=\"_parent\"><img src=\"https://colab.research.google.com/assets/colab-badge.svg\" alt=\"Open In Colab\"/></a>"
      ]
    },
    {
      "cell_type": "code",
      "source": [
        "import pandas as pd\n",
        "\n",
        "import pandas as pd\n",
        "\n",
        "# Load the dataset\n",
        "file_path = \"/content/student-dataset.csv\"\n",
        "df = pd.read_csv(file_path)\n",
        "\n",
        "# Display the first few rows\n",
        "print(df.head())\n",
        "print(df.head())"
      ],
      "metadata": {
        "colab": {
          "base_uri": "https://localhost:8080/"
        },
        "id": "sHsAzchmBBzv",
        "outputId": "52b0c135-532d-4ac3-81b1-6d2c07a861c6"
      },
      "execution_count": 3,
      "outputs": [
        {
          "output_type": "stream",
          "name": "stdout",
          "text": [
            "   id             name               nationality                 city  \\\n",
            "0   0        Kiana Lor                     China               Suzhou   \n",
            "1   1   Joshua Lonaker  United States of America        Santa Clarita   \n",
            "2   2    Dakota Blanco  United States of America              Oakland   \n",
            "3   3  Natasha Yarusso  United States of America        Castro Valley   \n",
            "4   4   Brooke Cazares                    Brazil  São José dos Campos   \n",
            "\n",
            "   latitude  longitude gender  age  english.grade  math.grade  sciences.grade  \\\n",
            "0     31.31     120.62      F   22            3.5         3.7             3.1   \n",
            "1     34.39    -118.54      M   22            2.9         3.2             3.6   \n",
            "2     37.80    -122.27      F   22            3.9         3.8             3.2   \n",
            "3     37.69    -122.09      F   20            3.3         2.8             NaN   \n",
            "4    -23.18     -45.88      F   21            3.7         2.6             3.4   \n",
            "\n",
            "   language.grade  portfolio.rating  coverletter.rating  refletter.rating  \n",
            "0             1.0                 4                 4.0                 4  \n",
            "1             5.0                 5                 4.0                 5  \n",
            "2             5.0                 3                 3.0                 4  \n",
            "3             5.0                 5                 2.0                 4  \n",
            "4             1.0                 4                 4.0                 5  \n",
            "   id             name               nationality                 city  \\\n",
            "0   0        Kiana Lor                     China               Suzhou   \n",
            "1   1   Joshua Lonaker  United States of America        Santa Clarita   \n",
            "2   2    Dakota Blanco  United States of America              Oakland   \n",
            "3   3  Natasha Yarusso  United States of America        Castro Valley   \n",
            "4   4   Brooke Cazares                    Brazil  São José dos Campos   \n",
            "\n",
            "   latitude  longitude gender  age  english.grade  math.grade  sciences.grade  \\\n",
            "0     31.31     120.62      F   22            3.5         3.7             3.1   \n",
            "1     34.39    -118.54      M   22            2.9         3.2             3.6   \n",
            "2     37.80    -122.27      F   22            3.9         3.8             3.2   \n",
            "3     37.69    -122.09      F   20            3.3         2.8             NaN   \n",
            "4    -23.18     -45.88      F   21            3.7         2.6             3.4   \n",
            "\n",
            "   language.grade  portfolio.rating  coverletter.rating  refletter.rating  \n",
            "0             1.0                 4                 4.0                 4  \n",
            "1             5.0                 5                 4.0                 5  \n",
            "2             5.0                 3                 3.0                 4  \n",
            "3             5.0                 5                 2.0                 4  \n",
            "4             1.0                 4                 4.0                 5  \n"
          ]
        }
      ]
    },
    {
      "cell_type": "code",
      "source": [
        "import pandas as pd\n",
        "\n",
        "# Load the dataset\n",
        "file_path = \"/content/student-dataset.csv\"\n",
        "df = pd.read_csv(file_path)\n",
        "\n",
        "# Display the first few rows\n",
        "print(df.head())\n",
        "print(df.head())\n",
        "\n",
        "# Print the columns of the DataFrame to see their actual names\n",
        "print(df.columns)\n",
        "\n",
        "# Get the actual column name for 'Science_Score' (or similar)\n",
        "# Instead of assuming, find the actual column name from df.columns\n",
        "# Example: if the column name is 'Science Score', use that\n",
        "column_name = df.columns[df.columns.str.contains('Science', case=False)].values[0]  # This line finds the actual column name related to 'Science'\n",
        "#column_name = 'Science'  # Replace 'Science' with the actual name from df.columns if different\n",
        "\n",
        "# Fill missing values in the specified column with the median\n",
        "df[column_name].fillna(df[column_name].median(), inplace=True)\n",
        "\n",
        "# Verify if missing values are handled\n",
        "print(df.isnull().sum())"
      ],
      "metadata": {
        "colab": {
          "base_uri": "https://localhost:8080/"
        },
        "id": "w6igBcu8CELz",
        "outputId": "bb334d66-9eaf-4d83-e7ba-4f2c55f0c64b"
      },
      "execution_count": 8,
      "outputs": [
        {
          "output_type": "stream",
          "name": "stdout",
          "text": [
            "   id             name               nationality                 city  \\\n",
            "0   0        Kiana Lor                     China               Suzhou   \n",
            "1   1   Joshua Lonaker  United States of America        Santa Clarita   \n",
            "2   2    Dakota Blanco  United States of America              Oakland   \n",
            "3   3  Natasha Yarusso  United States of America        Castro Valley   \n",
            "4   4   Brooke Cazares                    Brazil  São José dos Campos   \n",
            "\n",
            "   latitude  longitude gender  age  english.grade  math.grade  sciences.grade  \\\n",
            "0     31.31     120.62      F   22            3.5         3.7             3.1   \n",
            "1     34.39    -118.54      M   22            2.9         3.2             3.6   \n",
            "2     37.80    -122.27      F   22            3.9         3.8             3.2   \n",
            "3     37.69    -122.09      F   20            3.3         2.8             NaN   \n",
            "4    -23.18     -45.88      F   21            3.7         2.6             3.4   \n",
            "\n",
            "   language.grade  portfolio.rating  coverletter.rating  refletter.rating  \n",
            "0             1.0                 4                 4.0                 4  \n",
            "1             5.0                 5                 4.0                 5  \n",
            "2             5.0                 3                 3.0                 4  \n",
            "3             5.0                 5                 2.0                 4  \n",
            "4             1.0                 4                 4.0                 5  \n",
            "   id             name               nationality                 city  \\\n",
            "0   0        Kiana Lor                     China               Suzhou   \n",
            "1   1   Joshua Lonaker  United States of America        Santa Clarita   \n",
            "2   2    Dakota Blanco  United States of America              Oakland   \n",
            "3   3  Natasha Yarusso  United States of America        Castro Valley   \n",
            "4   4   Brooke Cazares                    Brazil  São José dos Campos   \n",
            "\n",
            "   latitude  longitude gender  age  english.grade  math.grade  sciences.grade  \\\n",
            "0     31.31     120.62      F   22            3.5         3.7             3.1   \n",
            "1     34.39    -118.54      M   22            2.9         3.2             3.6   \n",
            "2     37.80    -122.27      F   22            3.9         3.8             3.2   \n",
            "3     37.69    -122.09      F   20            3.3         2.8             NaN   \n",
            "4    -23.18     -45.88      F   21            3.7         2.6             3.4   \n",
            "\n",
            "   language.grade  portfolio.rating  coverletter.rating  refletter.rating  \n",
            "0             1.0                 4                 4.0                 4  \n",
            "1             5.0                 5                 4.0                 5  \n",
            "2             5.0                 3                 3.0                 4  \n",
            "3             5.0                 5                 2.0                 4  \n",
            "4             1.0                 4                 4.0                 5  \n",
            "Index(['id', 'name', 'nationality', 'city', 'latitude', 'longitude', 'gender',\n",
            "       'age', 'english.grade', 'math.grade', 'sciences.grade',\n",
            "       'language.grade', 'portfolio.rating', 'coverletter.rating',\n",
            "       'refletter.rating'],\n",
            "      dtype='object')\n",
            "id                    0\n",
            "name                  0\n",
            "nationality           0\n",
            "city                  0\n",
            "latitude              0\n",
            "longitude             0\n",
            "gender                0\n",
            "age                   0\n",
            "english.grade         0\n",
            "math.grade            0\n",
            "sciences.grade        0\n",
            "language.grade        0\n",
            "portfolio.rating      0\n",
            "coverletter.rating    0\n",
            "refletter.rating      0\n",
            "dtype: int64\n"
          ]
        },
        {
          "output_type": "stream",
          "name": "stderr",
          "text": [
            "<ipython-input-8-dcc3304aece8>:21: FutureWarning: A value is trying to be set on a copy of a DataFrame or Series through chained assignment using an inplace method.\n",
            "The behavior will change in pandas 3.0. This inplace method will never work because the intermediate object on which we are setting values always behaves as a copy.\n",
            "\n",
            "For example, when doing 'df[col].method(value, inplace=True)', try using 'df.method({col: value}, inplace=True)' or df[col] = df[col].method(value) instead, to perform the operation inplace on the original object.\n",
            "\n",
            "\n",
            "  df[column_name].fillna(df[column_name].median(), inplace=True)\n"
          ]
        }
      ]
    },
    {
      "cell_type": "code",
      "source": [
        "from sklearn.preprocessing import MinMaxScaler\n",
        "\n",
        "# Print the actual columns present in the DataFrame\n",
        "print(df.columns)\n",
        "\n",
        "# Select the columns to normalize - Make sure they match case and spelling\n",
        "# Replace with actual column names from df.columns if different\n",
        "columns_to_scale = df.columns[df.columns.str.contains('Math|Science|English', case=False)].tolist()\n",
        "\n",
        "# Initialize Min-Max Scaler\n",
        "scaler = MinMaxScaler()\n",
        "\n",
        "# Apply Min-Max Scaling\n",
        "df[columns_to_scale] = scaler.fit_transform(df[columns_to_scale])\n",
        "\n",
        "# Display the transformed dataset\n",
        "print(df.head())"
      ],
      "metadata": {
        "colab": {
          "base_uri": "https://localhost:8080/"
        },
        "id": "VKOb7JYqCcax",
        "outputId": "58f8bead-f317-42c2-9759-f448deb570b7"
      },
      "execution_count": 11,
      "outputs": [
        {
          "output_type": "stream",
          "name": "stdout",
          "text": [
            "Index(['id', 'name', 'nationality', 'city', 'latitude', 'longitude', 'gender',\n",
            "       'age', 'english.grade', 'math.grade', 'sciences.grade',\n",
            "       'language.grade', 'portfolio.rating', 'coverletter.rating',\n",
            "       'refletter.rating'],\n",
            "      dtype='object')\n",
            "   id             name               nationality                 city  \\\n",
            "0   0        Kiana Lor                     China               Suzhou   \n",
            "1   1   Joshua Lonaker  United States of America        Santa Clarita   \n",
            "2   2    Dakota Blanco  United States of America              Oakland   \n",
            "3   3  Natasha Yarusso  United States of America        Castro Valley   \n",
            "4   4   Brooke Cazares                    Brazil  São José dos Campos   \n",
            "\n",
            "   latitude  longitude gender  age  english.grade  math.grade  sciences.grade  \\\n",
            "0     31.31     120.62      F   22           0.80    0.842105        0.653846   \n",
            "1     34.39    -118.54      M   22           0.56    0.578947        0.846154   \n",
            "2     37.80    -122.27      F   22           0.96    0.894737        0.692308   \n",
            "3     37.69    -122.09      F   20           0.72    0.368421        0.846154   \n",
            "4    -23.18     -45.88      F   21           0.88    0.263158        0.769231   \n",
            "\n",
            "   language.grade  portfolio.rating  coverletter.rating  refletter.rating  \n",
            "0             1.0                 4                 4.0                 4  \n",
            "1             5.0                 5                 4.0                 5  \n",
            "2             5.0                 3                 3.0                 4  \n",
            "3             5.0                 5                 2.0                 4  \n",
            "4             1.0                 4                 4.0                 5  \n"
          ]
        }
      ]
    }
  ]
}