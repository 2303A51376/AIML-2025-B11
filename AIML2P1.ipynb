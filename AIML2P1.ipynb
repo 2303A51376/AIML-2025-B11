{
  "nbformat": 4,
  "nbformat_minor": 0,
  "metadata": {
    "colab": {
      "provenance": [],
      "authorship_tag": "ABX9TyOzJm9KMN8opGt9vZp6AIID",
      "include_colab_link": true
    },
    "kernelspec": {
      "name": "python3",
      "display_name": "Python 3"
    },
    "language_info": {
      "name": "python"
    }
  },
  "cells": [
    {
      "cell_type": "markdown",
      "metadata": {
        "id": "view-in-github",
        "colab_type": "text"
      },
      "source": [
        "<a href=\"https://colab.research.google.com/github/2303A51376/AIML-2025-B11/blob/main/AIML2P1.ipynb\" target=\"_parent\"><img src=\"https://colab.research.google.com/assets/colab-badge.svg\" alt=\"Open In Colab\"/></a>"
      ]
    },
    {
      "cell_type": "code",
      "source": [
        "import numpy as np\n",
        "from queue import Queue\n",
        "graph={0:[1,2,3],1:[0,2],2:[0,1,3,5],3:[0,2,4],4:[3,5,7],5:[4,6,7],6:[5,7],7:[4,5,6],8:[]}\n",
        "print(\"The adjacency List representing the graph is:\")\n",
        "print(graph)\n",
        "def bfs(graph,source):\n",
        "  Q=Queue()\n",
        "  visited_vertices=set()\n",
        "  Q.put(source)\n",
        "  visited_vertices.update({source})\n",
        "  while not Q.empty():\n",
        "    vertex=Q.get()\n",
        "    print(vertex,end=\"-->\")\n",
        "    for u in graph[vertex]:\n",
        "     if u not in visited_vertices:\n",
        "        Q.put(u)\n",
        "        visited_vertices.update({u})\n",
        "print(\"BFS traversal of graph with source 0is:\")\n",
        "bfs(graph,0)"
      ],
      "metadata": {
        "colab": {
          "base_uri": "https://localhost:8080/"
        },
        "id": "JEhDe2r7hSZ-",
        "outputId": "0a5f5520-0353-467f-b2f2-67e283c60b6e"
      },
      "execution_count": null,
      "outputs": [
        {
          "output_type": "stream",
          "name": "stdout",
          "text": [
            "The adjacency List representing the graph is:\n",
            "{0: [1, 2, 3], 1: [0, 2], 2: [0, 1, 3, 5], 3: [0, 2, 4], 4: [3, 5, 7], 5: [4, 6, 7], 6: [5, 7], 7: [4, 5, 6], 8: []}\n",
            "BFS traversal of graph with source 0is:\n",
            "0-->1-->2-->3-->5-->4-->6-->7-->"
          ]
        }
      ]
    }
  ]
}