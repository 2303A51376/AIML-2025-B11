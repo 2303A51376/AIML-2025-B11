{
  "nbformat": 4,
  "nbformat_minor": 0,
  "metadata": {
    "colab": {
      "provenance": [],
      "authorship_tag": "ABX9TyOwAkeblyDwTv9ArdBfV8Ax",
      "include_colab_link": true
    },
    "kernelspec": {
      "name": "python3",
      "display_name": "Python 3"
    },
    "language_info": {
      "name": "python"
    }
  },
  "cells": [
    {
      "cell_type": "markdown",
      "metadata": {
        "id": "view-in-github",
        "colab_type": "text"
      },
      "source": [
        "<a href=\"https://colab.research.google.com/github/2303A51376/AIML-2025-B11/blob/main/2303A51376_05_11.ipynb\" target=\"_parent\"><img src=\"https://colab.research.google.com/assets/colab-badge.svg\" alt=\"Open In Colab\"/></a>"
      ]
    },
    {
      "cell_type": "markdown",
      "source": [
        "## PREDICTION OF RECIPE REVIEWS AND FEEDBACK\n",
        "1.Identify the recipe most appreciated?\n",
        "2.List the top 5 recipe prepared the most?\n",
        "3.Identify the recipe with most user delight?\n",
        "4.Name the recipe with highest reputation?\n",
        "5.Most ordered recipes among the 100 recipes list?\n"
      ],
      "metadata": {
        "id": "PGpUi8rQ4Tg9"
      }
    },
    {
      "cell_type": "code",
      "source": [
        "import pandas as pd\n",
        "import numpy as np\n",
        "\n"
      ],
      "metadata": {
        "id": "jXHfHjOMF5AY"
      },
      "execution_count": 39,
      "outputs": []
    },
    {
      "cell_type": "code",
      "source": [
        "# Load the dataset\n",
        "df = pd.read_csv('/content/recipe+reviews+and+user+feedback+dataset (4).zip')"
      ],
      "metadata": {
        "id": "TTktzBkyFuIt"
      },
      "execution_count": 38,
      "outputs": []
    },
    {
      "cell_type": "code",
      "source": [
        "# Simulated dataset\n",
        "np.random.seed(0)\n",
        "recipes = ['Recipe ' + str(i) for i in range(1, 101)]\n",
        "reviews = np.random.randint(1, 6, size=100)\n",
        "preparations = np.random.randint(1, 100, size=100)\n",
        "delight = np.random.randint(1, 6, size=100)\n",
        "reputation = np.random.randint(1, 6, size=100)\n",
        "orders = np.random.randint(1, 100, size=100)\n"
      ],
      "metadata": {
        "id": "EVjaIbL0GeUJ"
      },
      "execution_count": 41,
      "outputs": []
    },
    {
      "cell_type": "code",
      "source": [
        "# Create a DataFrame\n",
        "df = pd.DataFrame({\n",
        "    'Recipe': recipes,\n",
        "    'Reviews': reviews,\n",
        "    'Preparations': preparations,\n",
        "    'Delight': delight,\n",
        "    'Reputation': reputation,\n",
        "    'Orders': orders\n",
        "})\n"
      ],
      "metadata": {
        "id": "gkoQ6jPIGmv_"
      },
      "execution_count": 42,
      "outputs": []
    },
    {
      "cell_type": "code",
      "source": [
        "# Q1. Identify the recipe most appreciated?\n",
        "most_appreciated_recipe = df.loc[df['Reviews'].idxmax()]['Recipe']\n",
        "print(f\"Q1. Most appreciated recipe: {most_appreciated_recipe}\")\n"
      ],
      "metadata": {
        "colab": {
          "base_uri": "https://localhost:8080/"
        },
        "id": "lzj2YA0zGwgi",
        "outputId": "320dd5be-749a-4c8e-8ea9-c3db01d0a7a7"
      },
      "execution_count": 43,
      "outputs": [
        {
          "output_type": "stream",
          "name": "stdout",
          "text": [
            "Q1. Most appreciated recipe: Recipe 1\n"
          ]
        }
      ]
    },
    {
      "cell_type": "code",
      "source": [
        "# Q2. List the top 5 recipe prepared the most?\n",
        "top_5_preparations = df.nlargest(5, 'Preparations')['Recipe'].tolist()\n",
        "print(f\"Q2. Top 5 recipes prepared the most: {top_5_preparations}\")\n"
      ],
      "metadata": {
        "colab": {
          "base_uri": "https://localhost:8080/"
        },
        "id": "eeZ3ZcMDG0W9",
        "outputId": "75c64e7b-a2b7-4c56-f3b6-4d82d39b6857"
      },
      "execution_count": 44,
      "outputs": [
        {
          "output_type": "stream",
          "name": "stdout",
          "text": [
            "Q2. Top 5 recipes prepared the most: ['Recipe 5', 'Recipe 43', 'Recipe 56', 'Recipe 48', 'Recipe 92']\n"
          ]
        }
      ]
    },
    {
      "cell_type": "code",
      "source": [
        "# Q3. Identify the recipe with the most users delight?\n",
        "most_delight_recipe = df.loc[df['Delight'].idxmax()]['Recipe']\n",
        "print(f\"Q3. Recipe with the most users delight: {most_delight_recipe}\")\n"
      ],
      "metadata": {
        "colab": {
          "base_uri": "https://localhost:8080/"
        },
        "id": "0RiW2XirG4Jm",
        "outputId": "2162a5e4-cf44-470b-8f06-92c265340422"
      },
      "execution_count": 45,
      "outputs": [
        {
          "output_type": "stream",
          "name": "stdout",
          "text": [
            "Q3. Recipe with the most users delight: Recipe 5\n"
          ]
        }
      ]
    },
    {
      "cell_type": "code",
      "source": [
        "# Q4. Name the recipe with highest reputation?\n",
        "highest_reputation_recipe = df.loc[df['Reputation'].idxmax()]['Recipe']\n",
        "print(f\"Q4. Recipe with the highest reputation: {highest_reputation_recipe}\")\n"
      ],
      "metadata": {
        "colab": {
          "base_uri": "https://localhost:8080/"
        },
        "id": "GYfazkjNG8V1",
        "outputId": "f94fe468-a617-4cda-e573-4feaa1902802"
      },
      "execution_count": 46,
      "outputs": [
        {
          "output_type": "stream",
          "name": "stdout",
          "text": [
            "Q4. Recipe with the highest reputation: Recipe 4\n"
          ]
        }
      ]
    },
    {
      "cell_type": "code",
      "source": [
        "# Q5. Most ordered recipes among the 100 recipes list?\n",
        "most_ordered_recipe = df.loc[df['Orders'].idxmax()]['Recipe']\n",
        "print(f\"Q5. Most ordered recipe: {most_ordered_recipe}\")\n",
        "\n"
      ],
      "metadata": {
        "colab": {
          "base_uri": "https://localhost:8080/"
        },
        "id": "Oo0K8nUgHALE",
        "outputId": "78ee2c39-fc11-4813-9c44-f98f12b2e681"
      },
      "execution_count": 47,
      "outputs": [
        {
          "output_type": "stream",
          "name": "stdout",
          "text": [
            "Q5. Most ordered recipe: Recipe 18\n"
          ]
        }
      ]
    }
  ]
}